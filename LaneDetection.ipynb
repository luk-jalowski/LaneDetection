{
 "cells": [
  {
   "cell_type": "markdown",
   "metadata": {},
   "source": [
    "Import packages"
   ]
  },
  {
   "cell_type": "code",
   "execution_count": null,
   "metadata": {},
   "outputs": [],
   "source": [
    "import matplotlib.pyplot as plt\n",
    "import matplotlib.image as mpimg\n",
    "import numpy as np\n",
    "import cv2\n",
    "%matplotlib inline"
   ]
  },
  {
   "cell_type": "markdown",
   "metadata": {},
   "source": [
    "Helper functions"
   ]
  },
  {
   "cell_type": "code",
   "execution_count": null,
   "metadata": {},
   "outputs": [],
   "source": [
    "def color_treshold(image):\n",
    "    upper = np.uint8([255, 255, 255])\n",
    "    \n",
    "    # white color mask\n",
    "    lower = np.uint8([200, 200, 200])\n",
    "    white_mask = cv2.inRange(image, lower, upper)\n",
    "    \n",
    "    # yellow color mask\n",
    "    lower = np.uint8([190, 190,   0])\n",
    "    yellow_mask = cv2.inRange(image, lower, upper)\n",
    "    \n",
    "    # combine the mask\n",
    "    combined_mask = cv2.bitwise_or(white_mask, yellow_mask)\n",
    "    masked = cv2.bitwise_and(image, image, mask = combined_mask)\n",
    "    return masked\n",
    "\n",
    "def grayscale(img):\n",
    "    #Grayscales the image, returns image with one color channel\n",
    "    return cv2.cvtColor(img, cv2.COLOR_RGB2GRAY)\n",
    "    \n",
    "def canny(img, low_threshold, high_threshold):\n",
    "    #Applies Canny Edge transform\n",
    "    return cv2.Canny(img, low_threshold, high_threshold)\n",
    "\n",
    "def gaussian_blur(img, kernel_size):\n",
    "    #Applies Gaussian blur to the image\n",
    "    return cv2.GaussianBlur(img, (kernel_size, kernel_size), 0)\n",
    "\n",
    "def region_of_interest(img, vertices):\n",
    "    #Applies image mask, only keeps region of the image defined by mask polygon\n",
    "    \n",
    "    #defining a blank mask\n",
    "    mask = np.zeros_like(img)   \n",
    "   \n",
    "    #filling pixels inside the polygon defined by \"vertices\" with the fill color    \n",
    "    cv2.fillPoly(mask, vertices, 255)\n",
    "    \n",
    "    #returning the image only where mask pixels are nonzero\n",
    "    masked_image = cv2.bitwise_and(img, mask)\n",
    "    return masked_image\n",
    "\n",
    "\n",
    "def draw_lines(img, lines, color=[255, 0, 0], thickness=2):\n",
    "    #drawns lines on the image\n",
    "    for i in range(0,len(lines)):\n",
    "        x1,y1,x2,y2 = lines[i]\n",
    "        cv2.line(img, (x1, y1), (x2, y2), color, thickness)\n",
    "\n",
    "def draw_lanes(image, lines):\n",
    "    #separeats lines list into right and left lane\n",
    "    rightLines, leftLines = separate_lines_by_slope(lines, image.shape[1]/2)\n",
    "    rightLanePoints = get_lane_points(rightLines, image.shape[0])\n",
    "    leftLanePoints = get_lane_points(leftLines, image.shape[0])\n",
    "    \n",
    "    points = []\n",
    "    points. append(rightLanePoints)\n",
    "    points. append(leftLanePoints)\n",
    "    #Draw lanes\n",
    "    draw_lines(image, np.array(points), thickness=5)\n",
    "            \n",
    "def separate_lines_by_slope(lines, center_x):\n",
    "    #Serapates lines by slope of the line and relative position to the center\n",
    "    rightLanes = []\n",
    "    leftLanes = []\n",
    "    for line in lines:\n",
    "        for x1,y1,x2,y2 in line:\n",
    "            slope = (float(y2)-y1)/(x2-x1)\n",
    "            if slope >= 0 and x1 > center_x and x2 > center_x:\n",
    "                leftLanes.append([x1,y1,x2,y2])\n",
    "            elif slope < 0 and x1 < center_x and x2 < center_x:\n",
    "                rightLanes.append([x1,y1,x2,y2])\n",
    "    right = np.array(rightLanes)\n",
    "    left = np.array(leftLanes)\n",
    "    return right, left\n",
    "\n",
    "def get_lane_points(lines, lane_start_coord_y):\n",
    "    #Takes lines list and creates one line that fits them the best\n",
    "    lineX = []\n",
    "    lineY = []\n",
    "    for i in range(0,len(lines)):\n",
    "        x1,y1,x2,y2 = lines[i,:]\n",
    "        lineX.append(x1)\n",
    "        lineX.append(x2)\n",
    "\n",
    "        lineY.append(y1)\n",
    "        lineY.append(y2)\n",
    "        \n",
    "    #Get line coefficients\n",
    "    coeffs = np.polyfit(lineX, lineY, 1)\n",
    "    \n",
    "    minY = min(lineY)\n",
    "    maxY = lane_start_coord_y #Image Coords start at top right so bottom of the image has bigger Y than top of the image \n",
    "    points = []\n",
    "    \n",
    "    minX = (minY - coeffs[1])/coeffs[0]\n",
    "    maxX = (maxY - coeffs[1])/coeffs[0]\n",
    "    \n",
    "    points.append(int(minX))\n",
    "    points.append(int(minY))\n",
    "    points.append(int(maxX))\n",
    "    points.append(int(maxY))\n",
    "    \n",
    "    points = np.array(points)\n",
    "    return points\n",
    "\n",
    "def hough_lines(img, rho, theta, threshold, min_line_len, max_line_gap):\n",
    "    #Returns iamge with Hough lines drawn on it\n",
    "    lines = cv2.HoughLinesP(img, rho, theta, threshold, np.array([]), minLineLength=min_line_len, maxLineGap=max_line_gap)\n",
    "    line_img = np.zeros((img.shape[0], img.shape[1], 3), dtype=np.uint8)\n",
    "    #draw_lines(line_img, lines)\n",
    "    draw_lanes(line_img, lines)\n",
    "    return line_img\n",
    "\n",
    "def weighted_img(img, initial_img, α=0.8, β=1., λ=0.):\n",
    "    #Combines initial image and image with lines drawn on it\n",
    "    return cv2.addWeighted(initial_img, α, img, β, λ)"
   ]
  },
  {
   "cell_type": "code",
   "execution_count": null,
   "metadata": {},
   "outputs": [],
   "source": [
    "def process_image(image):\n",
    "    processed_image = color_treshold(image)\n",
    "    processed_image = grayscale(processed_image)\n",
    "    processed_image = gaussian_blur(processed_image, 5)\n",
    "    processed_image = canny(processed_image, 50, 150)\n",
    "    #lanes are roughly in the same position on every image and shape below seems to fit it just right\n",
    "    vertices = np.array([[(40,image.shape[0]),(470, 320), (500, 320), (image.shape[1]-20,image.shape[0])]], dtype=np.int32)\n",
    "    processed_image = region_of_interest(processed_image, vertices)\n",
    "    processed_image = hough_lines(processed_image, 2, np.pi/180, 15, 3, 5)\n",
    "    processed_image = weighted_img(processed_image, image)\n",
    "    return processed_image\n"
   ]
  },
  {
   "cell_type": "markdown",
   "metadata": {},
   "source": [
    "Process_image takes image from file as an arguments and returns fully processed image with lines on top of road lane as a result"
   ]
  },
  {
   "cell_type": "markdown",
   "metadata": {},
   "source": [
    "Iterate over every test image, process it and save to test_images_result"
   ]
  },
  {
   "cell_type": "markdown",
   "metadata": {},
   "source": [
    "Video processing"
   ]
  },
  {
   "cell_type": "code",
   "execution_count": null,
   "metadata": {},
   "outputs": [],
   "source": [
    "from moviepy.editor import VideoFileClip\n",
    "from IPython.display import HTML"
   ]
  },
  {
   "cell_type": "code",
   "execution_count": null,
   "metadata": {},
   "outputs": [],
   "source": [
    "def process_video(path):\n",
    "    #Drawns lines on every frame of the image and then saves new video on the disk\n",
    "    video_name = path.split('/')[-1]\n",
    "    output_dir = 'test_videos_output/'\n",
    "    video_clip = VideoFileClip(path)\n",
    "    video = video_clip.fl_image(process_image)\n",
    "    %time video.write_videofile(output_dir + video_name, audio=False)"
   ]
  },
  {
   "cell_type": "code",
   "execution_count": null,
   "metadata": {
    "scrolled": true
   },
   "outputs": [],
   "source": [
    "white_path = \"test_videos/solidWhiteRight.mp4\"\n",
    "process_video(white_path)"
   ]
  },
  {
   "cell_type": "code",
   "execution_count": null,
   "metadata": {},
   "outputs": [],
   "source": [
    "yellow_path = \"test_videos/solidYellowLeft.mp4\"\n",
    "process_video(yellow_path)"
   ]
  },
  {
   "cell_type": "markdown",
   "metadata": {},
   "source": [
    "Play video inline"
   ]
  },
  {
   "cell_type": "code",
   "execution_count": null,
   "metadata": {},
   "outputs": [],
   "source": [
    "HTML(\"\"\"\n",
    "<video width=\"960\" height=\"540\" controls>\n",
    "  <source src=\"{0}\">\n",
    "</video>\n",
    "\"\"\".format(\"test_videos_output/solidYellowLeft.mp4\"))"
   ]
  },
  {
   "cell_type": "code",
   "execution_count": null,
   "metadata": {},
   "outputs": [],
   "source": [
    "HTML(\"\"\"\n",
    "<video width=\"960\" height=\"540\" controls>\n",
    "  <source src=\"{0}\">\n",
    "</video>\n",
    "\"\"\".format(\"test_videos_output/solidWhiteRight.mp4\"))"
   ]
  }
 ],
 "metadata": {
  "kernelspec": {
   "display_name": "Python 3",
   "language": "python",
   "name": "python3"
  },
  "language_info": {
   "codemirror_mode": {
    "name": "ipython",
    "version": 3
   },
   "file_extension": ".py",
   "mimetype": "text/x-python",
   "name": "python",
   "nbconvert_exporter": "python",
   "pygments_lexer": "ipython3",
   "version": "3.5.2"
  },
  "widgets": {
   "state": {},
   "version": "1.1.2"
  }
 },
 "nbformat": 4,
 "nbformat_minor": 2
}
